{
  "nbformat": 4,
  "nbformat_minor": 0,
  "metadata": {
    "colab": {
      "name": "MachineLearningProject.ipynb",
      "provenance": [],
      "collapsed_sections": [],
      "toc_visible": true
    },
    "kernelspec": {
      "name": "python3",
      "display_name": "Python 3"
    },
    "language_info": {
      "name": "python"
    },
    "accelerator": "GPU"
  },
  "cells": [
    {
      "cell_type": "code",
      "metadata": {
        "id": "-1Wx6KQCp6nV"
      },
      "source": [
        "import pandas as pd\n",
        "import numpy as np\n",
        "import matplotlib.pyplot as plt\n",
        "from scipy import stats\n",
        "import tensorflow as tf\n",
        "from keras.models import Sequential\n",
        "from keras.layers import Dense, Conv2D, MaxPooling2D, Flatten, Dropout, LSTM\n",
        "import seaborn as sns\n",
        "from sklearn import metrics\n",
        "from sklearn.model_selection import train_test_split\n",
        "\n",
        "%matplotlib inline\n",
        "sns.set(style='whitegrid', palette='muted', font_scale=1.5)"
      ],
      "execution_count": null,
      "outputs": []
    },
    {
      "cell_type": "code",
      "metadata": {
        "id": "63eZfgGz6x7T"
      },
      "source": [
        "from google.colab import drive\n",
        "drive.mount('/content/drive')"
      ],
      "execution_count": null,
      "outputs": []
    },
    {
      "cell_type": "code",
      "metadata": {
        "colab": {
          "base_uri": "https://localhost:8080/"
        },
        "id": "evY0jp5bracY",
        "outputId": "7e7ce273-02cd-4b40-fe64-2bee0ce2f4ea"
      },
      "source": [
        "#Load the drive helper and mount\n",
        "from google.colab import drive\n",
        "drive.mount('/content/drive')"
      ],
      "execution_count": null,
      "outputs": [
        {
          "output_type": "stream",
          "text": [
            "Mounted at /content/drive\n"
          ],
          "name": "stdout"
        }
      ]
    },
    {
      "cell_type": "code",
      "metadata": {
        "colab": {
          "base_uri": "https://localhost:8080/",
          "height": 206
        },
        "id": "aCXCCcYuthND",
        "outputId": "e375e96b-fd3a-4f1f-ce12-af2280d3adbc"
      },
      "source": [
        "columns = ['user', 'activity', 'timestamp', 'x-axis', 'y-axis', 'z-axis']\n",
        "df = pd.read_csv('/content/drive/MyDrive/WISDM_ar_v1.1_raw.txt', header=None, names=columns)\n",
        "df = df.dropna()\n",
        "df.head()"
      ],
      "execution_count": null,
      "outputs": [
        {
          "output_type": "execute_result",
          "data": {
            "text/html": [
              "<div>\n",
              "<style scoped>\n",
              "    .dataframe tbody tr th:only-of-type {\n",
              "        vertical-align: middle;\n",
              "    }\n",
              "\n",
              "    .dataframe tbody tr th {\n",
              "        vertical-align: top;\n",
              "    }\n",
              "\n",
              "    .dataframe thead th {\n",
              "        text-align: right;\n",
              "    }\n",
              "</style>\n",
              "<table border=\"1\" class=\"dataframe\">\n",
              "  <thead>\n",
              "    <tr style=\"text-align: right;\">\n",
              "      <th></th>\n",
              "      <th>user</th>\n",
              "      <th>activity</th>\n",
              "      <th>timestamp</th>\n",
              "      <th>x-axis</th>\n",
              "      <th>y-axis</th>\n",
              "      <th>z-axis</th>\n",
              "    </tr>\n",
              "  </thead>\n",
              "  <tbody>\n",
              "    <tr>\n",
              "      <th>0</th>\n",
              "      <td>33</td>\n",
              "      <td>Jogging</td>\n",
              "      <td>49105962326000</td>\n",
              "      <td>-0.694638</td>\n",
              "      <td>12.680544</td>\n",
              "      <td>0.503953</td>\n",
              "    </tr>\n",
              "    <tr>\n",
              "      <th>1</th>\n",
              "      <td>33</td>\n",
              "      <td>Jogging</td>\n",
              "      <td>49106062271000</td>\n",
              "      <td>5.012288</td>\n",
              "      <td>11.264028</td>\n",
              "      <td>0.953424</td>\n",
              "    </tr>\n",
              "    <tr>\n",
              "      <th>2</th>\n",
              "      <td>33</td>\n",
              "      <td>Jogging</td>\n",
              "      <td>49106112167000</td>\n",
              "      <td>4.903325</td>\n",
              "      <td>10.882658</td>\n",
              "      <td>-0.081722</td>\n",
              "    </tr>\n",
              "    <tr>\n",
              "      <th>3</th>\n",
              "      <td>33</td>\n",
              "      <td>Jogging</td>\n",
              "      <td>49106222305000</td>\n",
              "      <td>-0.612916</td>\n",
              "      <td>18.496431</td>\n",
              "      <td>3.023717</td>\n",
              "    </tr>\n",
              "    <tr>\n",
              "      <th>4</th>\n",
              "      <td>33</td>\n",
              "      <td>Jogging</td>\n",
              "      <td>49106332290000</td>\n",
              "      <td>-1.184970</td>\n",
              "      <td>12.108489</td>\n",
              "      <td>7.205164</td>\n",
              "    </tr>\n",
              "  </tbody>\n",
              "</table>\n",
              "</div>"
            ],
            "text/plain": [
              "   user activity       timestamp    x-axis     y-axis    z-axis\n",
              "0    33  Jogging  49105962326000 -0.694638  12.680544  0.503953\n",
              "1    33  Jogging  49106062271000  5.012288  11.264028  0.953424\n",
              "2    33  Jogging  49106112167000  4.903325  10.882658 -0.081722\n",
              "3    33  Jogging  49106222305000 -0.612916  18.496431  3.023717\n",
              "4    33  Jogging  49106332290000 -1.184970  12.108489  7.205164"
            ]
          },
          "metadata": {
            "tags": []
          },
          "execution_count": 3
        }
      ]
    },
    {
      "cell_type": "code",
      "metadata": {
        "colab": {
          "base_uri": "https://localhost:8080/"
        },
        "id": "eBfOfloKue3U",
        "outputId": "57d18ead-d136-4f98-c763-eeb29be09bc8"
      },
      "source": [
        "df.info()"
      ],
      "execution_count": null,
      "outputs": [
        {
          "output_type": "stream",
          "text": [
            "<class 'pandas.core.frame.DataFrame'>\n",
            "Int64Index: 1098203 entries, 0 to 1098203\n",
            "Data columns (total 6 columns):\n",
            " #   Column     Non-Null Count    Dtype  \n",
            "---  ------     --------------    -----  \n",
            " 0   user       1098203 non-null  int64  \n",
            " 1   activity   1098203 non-null  object \n",
            " 2   timestamp  1098203 non-null  int64  \n",
            " 3   x-axis     1098203 non-null  float64\n",
            " 4   y-axis     1098203 non-null  float64\n",
            " 5   z-axis     1098203 non-null  float64\n",
            "dtypes: float64(3), int64(2), object(1)\n",
            "memory usage: 58.7+ MB\n"
          ],
          "name": "stdout"
        }
      ]
    },
    {
      "cell_type": "markdown",
      "metadata": {
        "id": "Mt6RC9m5xX4E"
      },
      "source": [
        "# Exploration"
      ]
    },
    {
      "cell_type": "code",
      "metadata": {
        "id": "SJfIsluNuwUn",
        "colab": {
          "base_uri": "https://localhost:8080/"
        },
        "outputId": "e89e7daa-1078-48c0-c6ae-ceef3c520772"
      },
      "source": [
        "countOfActivity = df['activity'].value_counts()\n",
        "print(countOfActivity)"
      ],
      "execution_count": null,
      "outputs": [
        {
          "output_type": "stream",
          "text": [
            "Walking       424397\n",
            "Jogging       342176\n",
            "Upstairs      122869\n",
            "Downstairs    100427\n",
            "Sitting        59939\n",
            "Standing       48395\n",
            "Name: activity, dtype: int64\n"
          ],
          "name": "stdout"
        }
      ]
    },
    {
      "cell_type": "code",
      "metadata": {
        "colab": {
          "base_uri": "https://localhost:8080/",
          "height": 604
        },
        "id": "ihtbb3Uvxu4V",
        "outputId": "c8b76d53-e04f-4d35-f338-f3e040179cef"
      },
      "source": [
        "countOfActivity.plot(kind='bar', title='Training examples by activity type', figsize = (14,8))"
      ],
      "execution_count": null,
      "outputs": [
        {
          "output_type": "execute_result",
          "data": {
            "text/plain": [
              "<matplotlib.axes._subplots.AxesSubplot at 0x7f224b4cfe10>"
            ]
          },
          "metadata": {
            "tags": []
          },
          "execution_count": 6
        },
        {
          "output_type": "display_data",
          "data": {
            "image/png": "[encoded data removed]",
            "text/plain": [
              "<Figure size 1008x576 with 1 Axes>"
            ]
          },
          "metadata": {
            "tags": [],
            "needs_background": "light"
          }
        }
      ]
    },
    {
      "cell_type": "markdown",
      "metadata": {
        "id": "xb_xymDCyhD1"
      },
      "source": [
        "# No of samples belonging to each volunteer\n"
      ]
    },
    {
      "cell_type": "code",
      "metadata": {
        "colab": {
          "base_uri": "https://localhost:8080/"
        },
        "id": "TiOtcu5HyMLm",
        "outputId": "dd4afa15-da5e-466d-e48a-681bb3b0ec22"
      },
      "source": [
        "countOfActivityPerPerson = df['user'].value_counts()\n",
        "print(countOfActivityPerPerson)\n",
        "totalActivity = countOfActivityPerPerson.sum()\n",
        "print(\"Total number of activity recorded = \" + str(totalActivity))"
      ],
      "execution_count": null,
      "outputs": [
        {
          "output_type": "stream",
          "text": [
            "20    56632\n",
            "19    45383\n",
            "31    44282\n",
            "8     41188\n",
            "29    38245\n",
            "14    38192\n",
            "13    37093\n",
            "34    35947\n",
            "32    35506\n",
            "21    35436\n",
            "3     35161\n",
            "27    34958\n",
            "10    34883\n",
            "18    32811\n",
            "12    32641\n",
            "26    32578\n",
            "36    32261\n",
            "11    31658\n",
            "7     30967\n",
            "1     29978\n",
            "6     29704\n",
            "33    29453\n",
            "5     28509\n",
            "15    28154\n",
            "24    25736\n",
            "23    25673\n",
            "30    25335\n",
            "2     23525\n",
            "35    22394\n",
            "22    22310\n",
            "17    22020\n",
            "28    21358\n",
            "16    20470\n",
            "25    13468\n",
            "9     12923\n",
            "4     11371\n",
            "Name: user, dtype: int64\n",
            "Total number of activity recorded = 1098203\n"
          ],
          "name": "stdout"
        }
      ]
    },
    {
      "cell_type": "code",
      "metadata": {
        "id": "Bcszkul2zFj-"
      },
      "source": [
        "N_TIME_STEPS = 200\n",
        "N_FEATURES = 3\n",
        "step = 20\n",
        "segments = []\n",
        "labels = []\n",
        "for i in range(0, len(df) - N_TIME_STEPS, step):\n",
        "  xs = df['x-axis'].values[i: i + N_TIME_STEPS]\n",
        "  ys = df['y-axis'].values[i: i + N_TIME_STEPS]\n",
        "  zs = df['z-axis'].values[i: i + N_TIME_STEPS]\n",
        "  label = stats.mode(df['activity'][i: i + N_TIME_STEPS])\n",
        "  label = label[0][0] #to get actual value of node\n",
        "  segments.append([xs,ys,zs])\n",
        "  labels.append(label)"
      ],
      "execution_count": null,
      "outputs": []
    },
    {
      "cell_type": "code",
      "metadata": {
        "colab": {
          "base_uri": "https://localhost:8080/"
        },
        "id": "5vmHm3X730S6",
        "outputId": "6d757d8e-b204-4f37-ff04-d0d8232d3ce9"
      },
      "source": [
        "np.array(segments).shape"
      ],
      "execution_count": null,
      "outputs": [
        {
          "output_type": "execute_result",
          "data": {
            "text/plain": [
              "(54901, 3, 200)"
            ]
          },
          "metadata": {
            "tags": []
          },
          "execution_count": 9
        }
      ]
    },
    {
      "cell_type": "code",
      "metadata": {
        "colab": {
          "base_uri": "https://localhost:8080/"
        },
        "id": "b6GDviT749hK",
        "outputId": "e78156a1-3b76-4b5e-946a-c97a4ee1f7be"
      },
      "source": [
        "reshape_segments = np.asarray(segments, dtype = np.float32).reshape(-1, N_TIME_STEPS, N_FEATURES)\n",
        "reshape_segments.shape"
      ],
      "execution_count": null,
      "outputs": [
        {
          "output_type": "execute_result",
          "data": {
            "text/plain": [
              "(54901, 200, 3)"
            ]
          },
          "metadata": {
            "tags": []
          },
          "execution_count": 10
        }
      ]
    },
    {
      "cell_type": "code",
      "metadata": {
        "colab": {
          "base_uri": "https://localhost:8080/"
        },
        "id": "pmkHqJ0e_U_V",
        "outputId": "70530353-66b6-4a36-c90b-dbf96c35e180"
      },
      "source": [
        "print(reshape_segments)"
      ],
      "execution_count": null,
      "outputs": [
        {
          "output_type": "stream",
          "text": [
            "[[[ -0.6946377    5.012288     4.903325  ]\n",
            "  [ -0.61291564  -1.1849703    1.3756552 ]\n",
            "  [ -0.61291564  -0.50395286  -8.430995  ]\n",
            "  ...\n",
            "  [  7.6273947   -8.349273     9.575105  ]\n",
            "  [  2.2201166    4.4810944    0.08172209]\n",
            "  [ -5.8567495    7.1234417   -9.112013  ]]\n",
            "\n",
            " [[  3.568531    -0.50395286  -2.3018389 ]\n",
            "  [ -3.568531    -0.8036005    0.50395286]\n",
            "  [  5.706926    -8.662541    -1.334794  ]\n",
            "  ...\n",
            "  [  6.851035    -8.19945     -1.8387469 ]\n",
            "  [  2.982856     3.1054392    0.88532263]\n",
            "  [  8.349273    -2.982856    15.4046135 ]]\n",
            "\n",
            " [[  5.6660647    0.23154591  -4.8216033 ]\n",
            "  [  1.8387469   -3.2961242   11.604536  ]\n",
            "  [ -3.173541     0.61291564  -7.8861814 ]\n",
            "  ...\n",
            "  [-11.536434    -8.812365     4.2904096 ]\n",
            "  [  2.2201166    8.349273     5.7886477 ]\n",
            "  [ -9.888372     1.7978859   -1.334794  ]]\n",
            "\n",
            " ...\n",
            "\n",
            " [[  9.           9.04         9.04      ]\n",
            "  [  9.04         9.           9.04      ]\n",
            "  [  9.11         9.08         9.08      ]\n",
            "  ...\n",
            "  [  2.26         2.26         2.3       ]\n",
            "  [  2.3          2.26         2.26      ]\n",
            "  [  2.26         2.3          2.34      ]]\n",
            "\n",
            " [[  8.27         7.74         8.81      ]\n",
            "  [  8.12         8.85        10.        ]\n",
            "  [ 10.          10.08         8.31      ]\n",
            "  ...\n",
            "  [  2.3          2.34         2.22      ]\n",
            "  [  2.26         2.18         2.26      ]\n",
            "  [  2.41         2.3          2.26      ]]\n",
            "\n",
            " [[  9.19         9.49         9.34      ]\n",
            "  [  8.96         9.08         9.28      ]\n",
            "  [  9.34         9.08         8.85      ]\n",
            "  ...\n",
            "  [  2.26         2.26         2.49      ]\n",
            "  [  2.37         2.18         1.95      ]\n",
            "  [  1.8          1.69         1.73      ]]]\n"
          ],
          "name": "stdout"
        }
      ]
    },
    {
      "cell_type": "markdown",
      "metadata": {
        "id": "f6qZwgXq6nQ_"
      },
      "source": [
        "#Encoding labels(Walking,Sitting,Jogging etc..)"
      ]
    },
    {
      "cell_type": "code",
      "metadata": {
        "id": "wJlzpWF76bV2"
      },
      "source": [
        "labels = np.asarray(pd.get_dummies(labels), dtype=np.float32)"
      ],
      "execution_count": null,
      "outputs": []
    },
    {
      "cell_type": "code",
      "metadata": {
        "colab": {
          "base_uri": "https://localhost:8080/"
        },
        "id": "lAMoVKTF7An3",
        "outputId": "9afd275b-8b92-431f-e208-9d4fa033c851"
      },
      "source": [
        "print(labels)\n",
        "print(labels.shape)"
      ],
      "execution_count": null,
      "outputs": [
        {
          "output_type": "stream",
          "text": [
            "[[0. 1. 0. 0. 0. 0.]\n",
            " [0. 1. 0. 0. 0. 0.]\n",
            " [0. 1. 0. 0. 0. 0.]\n",
            " ...\n",
            " [0. 0. 1. 0. 0. 0.]\n",
            " [0. 0. 1. 0. 0. 0.]\n",
            " [0. 0. 1. 0. 0. 0.]]\n",
            "(54901, 6)\n"
          ],
          "name": "stdout"
        }
      ]
    },
    {
      "cell_type": "markdown",
      "metadata": {
        "id": "BZRSZMo_7V2d"
      },
      "source": [
        "# Train-Test spliting"
      ]
    },
    {
      "cell_type": "code",
      "metadata": {
        "id": "gZwKE6wv7FhW"
      },
      "source": [
        "X_train, X_test, y_train, y_test = train_test_split(\n",
        "    reshape_segments, labels, test_size=0.2, random_state=42\n",
        ")"
      ],
      "execution_count": null,
      "outputs": []
    },
    {
      "cell_type": "code",
      "metadata": {
        "colab": {
          "base_uri": "https://localhost:8080/"
        },
        "id": "zZW7NN097yTQ",
        "outputId": "0e319aa6-3e33-4e8a-d721-ba6b955ac4fc"
      },
      "source": [
        "X_test.shape"
      ],
      "execution_count": null,
      "outputs": [
        {
          "output_type": "execute_result",
          "data": {
            "text/plain": [
              "(10981, 200, 3, 1)"
            ]
          },
          "metadata": {
            "tags": []
          },
          "execution_count": 63
        }
      ]
    },
    {
      "cell_type": "code",
      "metadata": {
        "colab": {
          "base_uri": "https://localhost:8080/"
        },
        "id": "_6gfPD1470Ur",
        "outputId": "797fcf68-bfeb-4d30-9f88-cca003e81ccb"
      },
      "source": [
        "labels.shape[1]"
      ],
      "execution_count": null,
      "outputs": [
        {
          "output_type": "execute_result",
          "data": {
            "text/plain": [
              "6"
            ]
          },
          "metadata": {
            "tags": []
          },
          "execution_count": 21
        }
      ]
    },
    {
      "cell_type": "code",
      "metadata": {
        "id": "WUNHrhgXiBF4",
        "colab": {
          "base_uri": "https://localhost:8080/"
        },
        "outputId": "8e13bba2-6d4f-4764-a850-bc8aa741d762"
      },
      "source": [
        "X_train = X_train.reshape(43920, 200, 3, 1)\n",
        "X_test = X_test.reshape(10981, 200, 3, 1)\n",
        "X_train.shape[1]\n"
      ],
      "execution_count": null,
      "outputs": [
        {
          "output_type": "execute_result",
          "data": {
            "text/plain": [
              "200"
            ]
          },
          "metadata": {
            "tags": []
          },
          "execution_count": 23
        }
      ]
    },
    {
      "cell_type": "markdown",
      "metadata": {
        "id": "JLpMERI9tGHW"
      },
      "source": [
        "# Building the Convolutional Neural Network(2D CNN)\n"
      ]
    },
    {
      "cell_type": "code",
      "metadata": {
        "colab": {
          "base_uri": "https://localhost:8080/"
        },
        "id": "6eUyy0wk73lO",
        "outputId": "38822df1-05da-43de-a0a3-9faf22ad2074"
      },
      "source": [
        "model = Sequential()\n",
        "model.add(Conv2D(128, (2,2), input_shape=(200, 3, 1), activation='relu'))\n",
        "model.add(MaxPooling2D(pool_size=(2,2), padding='valid'))\n",
        "model.add(Dropout(0.2))\n",
        "model.add(Flatten())\n",
        "model.add(Dense(128, activation='relu'))\n",
        "model.add(Dense(128, activation='relu'))\n",
        "model.add(Dense(6, activation='softmax'))\n",
        "model.summary()"
      ],
      "execution_count": null,
      "outputs": [
        {
          "output_type": "stream",
          "text": [
            "Model: \"sequential\"\n",
            "_________________________________________________________________\n",
            "Layer (type)                 Output Shape              Param #   \n",
            "=================================================================\n",
            "conv2d (Conv2D)              (None, 199, 2, 128)       640       \n",
            "_________________________________________________________________\n",
            "max_pooling2d (MaxPooling2D) (None, 99, 1, 128)        0         \n",
            "_________________________________________________________________\n",
            "dropout (Dropout)            (None, 99, 1, 128)        0         \n",
            "_________________________________________________________________\n",
            "flatten (Flatten)            (None, 12672)             0         \n",
            "_________________________________________________________________\n",
            "dense (Dense)                (None, 128)               1622144   \n",
            "_________________________________________________________________\n",
            "dense_1 (Dense)              (None, 128)               16512     \n",
            "_________________________________________________________________\n",
            "dense_2 (Dense)              (None, 6)                 774       \n",
            "=================================================================\n",
            "Total params: 1,640,070\n",
            "Trainable params: 1,640,070\n",
            "Non-trainable params: 0\n",
            "_________________________________________________________________\n"
          ],
          "name": "stdout"
        }
      ]
    },
    {
      "cell_type": "code",
      "metadata": {
        "id": "pOjbLw8J-nNZ"
      },
      "source": [
        "model.compile(loss='categorical_crossentropy', optimizer='adam', metrics=['accuracy'])"
      ],
      "execution_count": null,
      "outputs": []
    },
    {
      "cell_type": "code",
      "metadata": {
        "colab": {
          "base_uri": "https://localhost:8080/"
        },
        "id": "9eqpHrdETwrY",
        "outputId": "7a9ec8ad-1ba5-4013-f32c-26f8e5b4cee2"
      },
      "source": [
        "model.fit(X_train, y_train, validation_data=(X_test, y_test), epochs=10, batch_size=10, verbose=2)"
      ],
      "execution_count": null,
      "outputs": [
        {
          "output_type": "stream",
          "text": [
            "Epoch 1/10\n",
            "4392/4392 - 42s - loss: 0.4504 - accuracy: 0.8384 - val_loss: 0.3056 - val_accuracy: 0.8873\n",
            "Epoch 2/10\n",
            "4392/4392 - 10s - loss: 0.2356 - accuracy: 0.9133 - val_loss: 0.2534 - val_accuracy: 0.9103\n",
            "Epoch 3/10\n",
            "4392/4392 - 10s - loss: 0.1745 - accuracy: 0.9364 - val_loss: 0.1981 - val_accuracy: 0.9262\n",
            "Epoch 4/10\n",
            "4392/4392 - 10s - loss: 0.1394 - accuracy: 0.9497 - val_loss: 0.1822 - val_accuracy: 0.9377\n",
            "Epoch 5/10\n",
            "4392/4392 - 10s - loss: 0.1165 - accuracy: 0.9584 - val_loss: 0.1875 - val_accuracy: 0.9362\n",
            "Epoch 6/10\n",
            "4392/4392 - 9s - loss: 0.1019 - accuracy: 0.9645 - val_loss: 0.1851 - val_accuracy: 0.9425\n",
            "Epoch 7/10\n",
            "4392/4392 - 10s - loss: 0.0919 - accuracy: 0.9671 - val_loss: 0.1718 - val_accuracy: 0.9459\n",
            "Epoch 8/10\n",
            "4392/4392 - 10s - loss: 0.0861 - accuracy: 0.9712 - val_loss: 0.1424 - val_accuracy: 0.9546\n",
            "Epoch 9/10\n",
            "4392/4392 - 10s - loss: 0.0769 - accuracy: 0.9735 - val_loss: 0.1947 - val_accuracy: 0.9464\n",
            "Epoch 10/10\n",
            "4392/4392 - 10s - loss: 0.0702 - accuracy: 0.9765 - val_loss: 0.1516 - val_accuracy: 0.9547\n"
          ],
          "name": "stdout"
        },
        {
          "output_type": "execute_result",
          "data": {
            "text/plain": [
              "<tensorflow.python.keras.callbacks.History at 0x7f21fc2cb250>"
            ]
          },
          "metadata": {
            "tags": []
          },
          "execution_count": 18
        }
      ]
    },
    {
      "cell_type": "code",
      "metadata": {
        "id": "AR_0mdKlg0CK"
      },
      "source": [
        "model.save('models/model.h5')"
      ],
      "execution_count": null,
      "outputs": []
    },
    {
      "cell_type": "markdown",
      "metadata": {
        "id": "whOwtyxHdJw0"
      },
      "source": [
        "# Building LSTM (Long Short Term Memory) Model"
      ]
    },
    {
      "cell_type": "code",
      "metadata": {
        "colab": {
          "base_uri": "https://localhost:8080/"
        },
        "id": "ATNa8gpBdCvw",
        "outputId": "562c8231-b6f0-4bee-a84b-f850aeed7ab9"
      },
      "source": [
        "\n",
        "model_1 = Sequential()\n",
        "model_1.add(LSTM(units=32, return_sequences='True', input_shape=(200,3)))\n",
        "model_1.add(Dropout(0.2))\n",
        "model_1.add(LSTM(units=32, return_sequences='True'))\n",
        "model_1.add(Dropout(0.2))\n",
        "model_1.add(LSTM(units=32, return_sequences='True'))\n",
        "model_1.add(Dropout(0.2))\n",
        "model_1.add(LSTM(units=32, return_sequences='True'))\n",
        "model_1.add(Dropout(0.2))\n",
        "model_1.add(Flatten())\n",
        "model_1.add(Dense(units=6, activation='sigmoid'))\n",
        "model_1.summary()"
      ],
      "execution_count": null,
      "outputs": [
        {
          "output_type": "stream",
          "text": [
            "Model: \"sequential_9\"\n",
            "_________________________________________________________________\n",
            "Layer (type)                 Output Shape              Param #   \n",
            "=================================================================\n",
            "lstm_20 (LSTM)               (None, 200, 32)           4608      \n",
            "_________________________________________________________________\n",
            "dropout_19 (Dropout)         (None, 200, 32)           0         \n",
            "_________________________________________________________________\n",
            "lstm_21 (LSTM)               (None, 200, 32)           8320      \n",
            "_________________________________________________________________\n",
            "dropout_20 (Dropout)         (None, 200, 32)           0         \n",
            "_________________________________________________________________\n",
            "lstm_22 (LSTM)               (None, 200, 32)           8320      \n",
            "_________________________________________________________________\n",
            "dropout_21 (Dropout)         (None, 200, 32)           0         \n",
            "_________________________________________________________________\n",
            "lstm_23 (LSTM)               (None, 200, 32)           8320      \n",
            "_________________________________________________________________\n",
            "dropout_22 (Dropout)         (None, 200, 32)           0         \n",
            "_________________________________________________________________\n",
            "flatten_1 (Flatten)          (None, 6400)              0         \n",
            "_________________________________________________________________\n",
            "dense_7 (Dense)              (None, 6)                 38406     \n",
            "=================================================================\n",
            "Total params: 67,974\n",
            "Trainable params: 67,974\n",
            "Non-trainable params: 0\n",
            "_________________________________________________________________\n"
          ],
          "name": "stdout"
        }
      ]
    },
    {
      "cell_type": "code",
      "metadata": {
        "id": "CY_jN90Sgv4w"
      },
      "source": [
        "model_1.compile(optimizer='adam', loss='mean_squared_error', metrics=['accuracy'])"
      ],
      "execution_count": null,
      "outputs": []
    },
    {
      "cell_type": "code",
      "metadata": {
        "colab": {
          "base_uri": "https://localhost:8080/"
        },
        "id": "QhaKpd_fimCr",
        "outputId": "b95bd0b6-2266-4d71-8592-ef1d529f1d77"
      },
      "source": [
        "X_train = X_train.reshape(43920, 200, 3)\n",
        "X_test = X_test.reshape(10981, 200, 3)\n",
        "model_1.fit(X_train, y_train, validation_data=(X_test, y_test), batch_size=10, epochs=10, verbose=2)"
      ],
      "execution_count": null,
      "outputs": [
        {
          "output_type": "stream",
          "text": [
            "Epoch 1/10\n",
            "4392/4392 - 108s - loss: 0.0367 - accuracy: 0.8492 - val_loss: 0.0287 - val_accuracy: 0.8847\n",
            "Epoch 2/10\n",
            "4392/4392 - 104s - loss: 0.0207 - accuracy: 0.9197 - val_loss: 0.0162 - val_accuracy: 0.9396\n",
            "Epoch 3/10\n",
            "4392/4392 - 104s - loss: 0.0148 - accuracy: 0.9452 - val_loss: 0.0120 - val_accuracy: 0.9574\n",
            "Epoch 4/10\n",
            "4392/4392 - 104s - loss: 0.0116 - accuracy: 0.9576 - val_loss: 0.0111 - val_accuracy: 0.9573\n",
            "Epoch 5/10\n",
            "4392/4392 - 103s - loss: 0.0101 - accuracy: 0.9636 - val_loss: 0.0097 - val_accuracy: 0.9649\n",
            "Epoch 6/10\n",
            "4392/4392 - 104s - loss: 0.0086 - accuracy: 0.9688 - val_loss: 0.0086 - val_accuracy: 0.9692\n",
            "Epoch 7/10\n",
            "4392/4392 - 104s - loss: 0.0077 - accuracy: 0.9723 - val_loss: 0.0076 - val_accuracy: 0.9718\n",
            "Epoch 8/10\n",
            "4392/4392 - 103s - loss: 0.0069 - accuracy: 0.9755 - val_loss: 0.0070 - val_accuracy: 0.9761\n",
            "Epoch 9/10\n",
            "4392/4392 - 103s - loss: 0.0059 - accuracy: 0.9793 - val_loss: 0.0081 - val_accuracy: 0.9718\n",
            "Epoch 10/10\n",
            "4392/4392 - 104s - loss: 0.0055 - accuracy: 0.9812 - val_loss: 0.0063 - val_accuracy: 0.9778\n"
          ],
          "name": "stdout"
        },
        {
          "output_type": "execute_result",
          "data": {
            "text/plain": [
              "<tensorflow.python.keras.callbacks.History at 0x7f2240094610>"
            ]
          },
          "metadata": {
            "tags": []
          },
          "execution_count": 38
        }
      ]
    },
    {
      "cell_type": "code",
      "metadata": {
        "id": "Irn5yGb3i78m"
      },
      "source": [
        "model_1.save('models/model_1.h5')"
      ],
      "execution_count": null,
      "outputs": []
    },
    {
      "cell_type": "markdown",
      "metadata": {
        "id": "Aln5_-pysVqT"
      },
      "source": [
        "# Building MLP (Multi-Layer Perceptron) Model"
      ]
    },
    {
      "cell_type": "code",
      "metadata": {
        "colab": {
          "base_uri": "https://localhost:8080/"
        },
        "id": "SLkFMzQisNGR",
        "outputId": "dce8cf4d-e2ed-4eda-ec2e-6db32be243a7"
      },
      "source": [
        "model_2 = Sequential()\n",
        "model_2.add(Dense(128, activation='relu', input_shape=(200,3,1)))\n",
        "model_2.add(Dropout(0.2))\n",
        "model_2.add(Dense(128, activation='relu'))\n",
        "model_2.add(Dropout(0.2))\n",
        "model_2.add(Dense(64, activation='relu'))\n",
        "model_2.add(Dropout(0.2))\n",
        "model_2.add(Flatten())\n",
        "model_2.add(Dense(6, activation='softmax'))\n",
        "model_2.summary()"
      ],
      "execution_count": null,
      "outputs": [
        {
          "output_type": "stream",
          "text": [
            "Model: \"sequential_20\"\n",
            "_________________________________________________________________\n",
            "Layer (type)                 Output Shape              Param #   \n",
            "=================================================================\n",
            "dense_42 (Dense)             (None, 200, 3, 128)       256       \n",
            "_________________________________________________________________\n",
            "dropout_45 (Dropout)         (None, 200, 3, 128)       0         \n",
            "_________________________________________________________________\n",
            "dense_43 (Dense)             (None, 200, 3, 128)       16512     \n",
            "_________________________________________________________________\n",
            "dropout_46 (Dropout)         (None, 200, 3, 128)       0         \n",
            "_________________________________________________________________\n",
            "dense_44 (Dense)             (None, 200, 3, 64)        8256      \n",
            "_________________________________________________________________\n",
            "dropout_47 (Dropout)         (None, 200, 3, 64)        0         \n",
            "_________________________________________________________________\n",
            "flatten_9 (Flatten)          (None, 38400)             0         \n",
            "_________________________________________________________________\n",
            "dense_45 (Dense)             (None, 6)                 230406    \n",
            "=================================================================\n",
            "Total params: 255,430\n",
            "Trainable params: 255,430\n",
            "Non-trainable params: 0\n",
            "_________________________________________________________________\n"
          ],
          "name": "stdout"
        }
      ]
    },
    {
      "cell_type": "code",
      "metadata": {
        "id": "nOX3raNU0734"
      },
      "source": [
        "X_train = X_train.reshape(43920, 200, 3, 1)\n",
        "X_test = X_test.reshape(10981, 200, 3, 1)\n",
        "model_2.compile(loss='categorical_crossentropy', optimizer='adam', metrics=['accuracy'])"
      ],
      "execution_count": null,
      "outputs": []
    },
    {
      "cell_type": "code",
      "metadata": {
        "colab": {
          "base_uri": "https://localhost:8080/"
        },
        "id": "eY6wY6iJ28bk",
        "outputId": "90fad353-5628-4a78-b34e-941371b7f37a"
      },
      "source": [
        "model_2.fit(X_train, y_train, validation_data=(X_test, y_test), batch_size=10, epochs=10, verbose=2)"
      ],
      "execution_count": null,
      "outputs": [
        {
          "output_type": "stream",
          "text": [
            "Epoch 1/10\n",
            "4392/4392 - 11s - loss: 0.7602 - accuracy: 0.7367 - val_loss: 0.5913 - val_accuracy: 0.7787\n",
            "Epoch 2/10\n",
            "4392/4392 - 11s - loss: 0.5579 - accuracy: 0.7995 - val_loss: 0.5359 - val_accuracy: 0.8122\n",
            "Epoch 3/10\n",
            "4392/4392 - 11s - loss: 0.5095 - accuracy: 0.8152 - val_loss: 0.6741 - val_accuracy: 0.7495\n",
            "Epoch 4/10\n",
            "4392/4392 - 11s - loss: 0.4760 - accuracy: 0.8257 - val_loss: 0.6133 - val_accuracy: 0.7754\n",
            "Epoch 5/10\n",
            "4392/4392 - 11s - loss: 0.4545 - accuracy: 0.8322 - val_loss: 0.5986 - val_accuracy: 0.7793\n",
            "Epoch 6/10\n",
            "4392/4392 - 11s - loss: 0.4375 - accuracy: 0.8386 - val_loss: 0.6139 - val_accuracy: 0.7713\n",
            "Epoch 7/10\n",
            "4392/4392 - 11s - loss: 0.4261 - accuracy: 0.8427 - val_loss: 0.6724 - val_accuracy: 0.7467\n",
            "Epoch 8/10\n",
            "4392/4392 - 11s - loss: 0.4177 - accuracy: 0.8435 - val_loss: 0.6410 - val_accuracy: 0.7649\n",
            "Epoch 9/10\n",
            "4392/4392 - 11s - loss: 0.4078 - accuracy: 0.8473 - val_loss: 0.6030 - val_accuracy: 0.7766\n",
            "Epoch 10/10\n",
            "4392/4392 - 11s - loss: 0.4017 - accuracy: 0.8502 - val_loss: 0.5534 - val_accuracy: 0.7986\n"
          ],
          "name": "stdout"
        },
        {
          "output_type": "execute_result",
          "data": {
            "text/plain": [
              "<tensorflow.python.keras.callbacks.History at 0x7f215a1e3490>"
            ]
          },
          "metadata": {
            "tags": []
          },
          "execution_count": 64
        }
      ]
    },
    {
      "cell_type": "code",
      "metadata": {
        "id": "0UI1qxL13N_X"
      },
      "source": [
        ""
      ],
      "execution_count": null,
      "outputs": []
    }
  ]
}